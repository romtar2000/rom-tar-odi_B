{
 "cells": [
  {
   "cell_type": "code",
   "execution_count": 12,
   "metadata": {},
   "outputs": [],
   "source": [
    "from flask import Flask\n",
    "app = Flask(__name__)\n",
    "import os\n",
    "import re\n",
    "import sqlite3\n",
    "import csv\n",
    "from flask import Flask\n",
    "from flask import url_for, render_template, request, redirect"
   ]
  },
  {
   "cell_type": "code",
   "execution_count": 14,
   "metadata": {},
   "outputs": [],
   "source": [
    "def cleanfiles():\n",
    "    filelist = os.listdir()\n",
    "    for item in filelist:\n",
    "        if os.path.isfile(item) and \".html\" in item and not \"_p\" in item:\n",
    "            with open(item, encoding=\"utf-8\") as f:\n",
    "                text = f.read()\n",
    "                notagstext = re.sub(\"<.*?>\", \"\", text, flags=re.DOTALL)\n",
    "                puretext = re.sub(\"{.*?}\", \"\", notagstext, flags=re.DOTALL)\n",
    "            newfile = item + \"_p\"\n",
    "            with open(newfile, \"w\", encoding=\"utf-8\") as n:\n",
    "              n.write(puretext)\n",
    "            filelist.append(newfile)\n",
    "            with open(newfile, encoding=\"utf-8\") as nf:\n",
    "                lines = nf.readlines()\n",
    "                senselines = []\n",
    "                for line in lines:\n",
    "                    if re.search('[а-яА-ЯёЁ]', line):\n",
    "                        if \"&nbsp;\" in line:\n",
    "                            lline = re.sub(\"&nbsp;\", \" \", line)\n",
    "                        else:\n",
    "                            lline = line\n",
    "                        senselines.append(lline)\n",
    "            plainfile = newfile + \"l\"\n",
    "            with open(plainfile, \"w\", encoding=\"utf-8\") as pl:\n",
    "                for ruline in senselines:\n",
    "                    pl.write(ruline)\n",
    "            with open(plainfile, encoding=\"utf-8\") as p:\n",
    "                pp = p.read()\n",
    "                pp_cl = re.sub(\"[A-Za-z0-9.-_-#]\", \"\", pp)\n",
    "                pp_cle = re.sub(\"\\n\", \" \", pp_cl)\n",
    "                pp_clean = re.sub(\"<!--\", \";\", pp_cle)\n",
    "            with open(plainfile, \"w\", encoding=\"utf-8\") as s:\n",
    "                s.write(pp_clean)\n",
    "            filelist.append(plainfile)\n",
    "    return filelist"
   ]
  },
  {
   "cell_type": "code",
   "execution_count": 16,
   "metadata": {},
   "outputs": [],
   "source": [
    "def makeref():\n",
    "    filelist = cleanfiles()\n",
    "    for element in filelist:\n",
    "        if \".html\" in element and not \"_\" in element:\n",
    "            with open(element, encoding=\"utf-8\") as e:\n",
    "                lines = e.readlines()\n",
    "                ref = \";\" + lines[1]\n",
    "            transmit = element + \"_pl\"\n",
    "            with open(transmit, \"a\", encoding=\"utf-8\") as t:\n",
    "               t.write(ref)"
   ]
  },
  {
   "cell_type": "code",
   "execution_count": 18,
   "metadata": {},
   "outputs": [],
   "source": [
    "def maketable():\n",
    "    filebase = []\n",
    "    filelist = cleanfiles()\n",
    "    makeref()\n",
    "    for element in filelist:\n",
    "        if os.path.isfile(element) and \".html_pl\" in element:\n",
    "            filebase.append(element)\n",
    "    csvfile = \"paper.csv\"\n",
    "    with open (csvfile, \"w\", encoding=\"utf-8\") as c:\n",
    "        c.write(\"name,content,ref\\n\")\n",
    "        for file in filebase:\n",
    "            with open(file, encoding=\"utf-8\") as f:\n",
    "                text = f.read()\n",
    "                parts = text.split(\"<\")\n",
    "                referplace = parts[-1]\n",
    "                refer = re.search(\"http://(.+)\", referplace).group()\n",
    "                c.write(file + \";\" + text + \";\" + refer + \"\\n\")\n",
    "    return csvfile"
   ]
  },
  {
   "cell_type": "code",
   "execution_count": 20,
   "metadata": {},
   "outputs": [],
   "source": [
    "def makebase():\n",
    "    table = maketable()\n",
    "    with open (table, encoding=\"utf-8\") as f:\n",
    "        filereader = csv.reader(f, delimiter=';', quotechar='|')\n",
    "        fileread = list(filereader)\n",
    "        rowlist = fileread[1::]\n",
    "    conn = sqlite3.connect('paper.db', timeout=10)\n",
    "    c = conn.cursor()\n",
    "    c.execute(\"DROP TABLE if exists paper\")\n",
    "    c.execute(\"CREATE TABLE if not exists paper(filename text, filetext text, refer text)\")\n",
    "    for row in rowlist:\n",
    "        c.execute(\"INSERT INTO paper (filename, filetext, refer) VALUES (?, ?, ?)\", (row[0], row[1], row[-1]))\n",
    "        conn.commit()"
   ]
  },
  {
   "cell_type": "code",
   "execution_count": 37,
   "metadata": {},
   "outputs": [
    {
     "ename": "AssertionError",
     "evalue": "View function mapping is overwriting an existing endpoint function: index",
     "output_type": "error",
     "traceback": [
      "\u001b[1;31m---------------------------------------------------------------------------\u001b[0m",
      "\u001b[1;31mAssertionError\u001b[0m                            Traceback (most recent call last)",
      "\u001b[1;32m<ipython-input-37-5dea3a3877e6>\u001b[0m in \u001b[0;36m<module>\u001b[1;34m\u001b[0m\n\u001b[1;32m----> 1\u001b[1;33m \u001b[1;33m@\u001b[0m\u001b[0mapp\u001b[0m\u001b[1;33m.\u001b[0m\u001b[0mroute\u001b[0m\u001b[1;33m(\u001b[0m\u001b[1;34m'/'\u001b[0m\u001b[1;33m)\u001b[0m\u001b[1;33m\u001b[0m\u001b[1;33m\u001b[0m\u001b[0m\n\u001b[0m\u001b[0;32m      2\u001b[0m \u001b[1;32mdef\u001b[0m \u001b[0mindex\u001b[0m\u001b[1;33m(\u001b[0m\u001b[1;33m)\u001b[0m\u001b[1;33m:\u001b[0m\u001b[1;33m\u001b[0m\u001b[1;33m\u001b[0m\u001b[0m\n\u001b[0;32m      3\u001b[0m     \u001b[1;32mreturn\u001b[0m \u001b[0mrender_template\u001b[0m\u001b[1;33m(\u001b[0m\u001b[1;34m\"index.html\"\u001b[0m\u001b[1;33m)\u001b[0m\u001b[1;33m\u001b[0m\u001b[1;33m\u001b[0m\u001b[0m\n\u001b[0;32m      4\u001b[0m \u001b[1;33m@\u001b[0m\u001b[0mapp\u001b[0m\u001b[1;33m.\u001b[0m\u001b[0mroute\u001b[0m\u001b[1;33m(\u001b[0m\u001b[1;34m'/results'\u001b[0m\u001b[1;33m)\u001b[0m\u001b[1;33m\u001b[0m\u001b[1;33m\u001b[0m\u001b[0m\n\u001b[0;32m      5\u001b[0m \u001b[1;32mdef\u001b[0m \u001b[0mresults\u001b[0m\u001b[1;33m(\u001b[0m\u001b[1;33m)\u001b[0m\u001b[1;33m:\u001b[0m\u001b[1;33m\u001b[0m\u001b[1;33m\u001b[0m\u001b[0m\n",
      "\u001b[1;32m~\\Anaconda3\\lib\\site-packages\\flask\\app.py\u001b[0m in \u001b[0;36mdecorator\u001b[1;34m(f)\u001b[0m\n\u001b[0;32m   1248\u001b[0m         \u001b[1;32mdef\u001b[0m \u001b[0mdecorator\u001b[0m\u001b[1;33m(\u001b[0m\u001b[0mf\u001b[0m\u001b[1;33m)\u001b[0m\u001b[1;33m:\u001b[0m\u001b[1;33m\u001b[0m\u001b[1;33m\u001b[0m\u001b[0m\n\u001b[0;32m   1249\u001b[0m             \u001b[0mendpoint\u001b[0m \u001b[1;33m=\u001b[0m \u001b[0moptions\u001b[0m\u001b[1;33m.\u001b[0m\u001b[0mpop\u001b[0m\u001b[1;33m(\u001b[0m\u001b[1;34m'endpoint'\u001b[0m\u001b[1;33m,\u001b[0m \u001b[1;32mNone\u001b[0m\u001b[1;33m)\u001b[0m\u001b[1;33m\u001b[0m\u001b[1;33m\u001b[0m\u001b[0m\n\u001b[1;32m-> 1250\u001b[1;33m             \u001b[0mself\u001b[0m\u001b[1;33m.\u001b[0m\u001b[0madd_url_rule\u001b[0m\u001b[1;33m(\u001b[0m\u001b[0mrule\u001b[0m\u001b[1;33m,\u001b[0m \u001b[0mendpoint\u001b[0m\u001b[1;33m,\u001b[0m \u001b[0mf\u001b[0m\u001b[1;33m,\u001b[0m \u001b[1;33m**\u001b[0m\u001b[0moptions\u001b[0m\u001b[1;33m)\u001b[0m\u001b[1;33m\u001b[0m\u001b[1;33m\u001b[0m\u001b[0m\n\u001b[0m\u001b[0;32m   1251\u001b[0m             \u001b[1;32mreturn\u001b[0m \u001b[0mf\u001b[0m\u001b[1;33m\u001b[0m\u001b[1;33m\u001b[0m\u001b[0m\n\u001b[0;32m   1252\u001b[0m         \u001b[1;32mreturn\u001b[0m \u001b[0mdecorator\u001b[0m\u001b[1;33m\u001b[0m\u001b[1;33m\u001b[0m\u001b[0m\n",
      "\u001b[1;32m~\\Anaconda3\\lib\\site-packages\\flask\\app.py\u001b[0m in \u001b[0;36mwrapper_func\u001b[1;34m(self, *args, **kwargs)\u001b[0m\n\u001b[0;32m     64\u001b[0m                 \u001b[1;34m'database models and everything related at a central place '\u001b[0m\u001b[1;33m\u001b[0m\u001b[1;33m\u001b[0m\u001b[0m\n\u001b[0;32m     65\u001b[0m                 'before the application starts serving requests.')\n\u001b[1;32m---> 66\u001b[1;33m         \u001b[1;32mreturn\u001b[0m \u001b[0mf\u001b[0m\u001b[1;33m(\u001b[0m\u001b[0mself\u001b[0m\u001b[1;33m,\u001b[0m \u001b[1;33m*\u001b[0m\u001b[0margs\u001b[0m\u001b[1;33m,\u001b[0m \u001b[1;33m**\u001b[0m\u001b[0mkwargs\u001b[0m\u001b[1;33m)\u001b[0m\u001b[1;33m\u001b[0m\u001b[1;33m\u001b[0m\u001b[0m\n\u001b[0m\u001b[0;32m     67\u001b[0m     \u001b[1;32mreturn\u001b[0m \u001b[0mupdate_wrapper\u001b[0m\u001b[1;33m(\u001b[0m\u001b[0mwrapper_func\u001b[0m\u001b[1;33m,\u001b[0m \u001b[0mf\u001b[0m\u001b[1;33m)\u001b[0m\u001b[1;33m\u001b[0m\u001b[1;33m\u001b[0m\u001b[0m\n\u001b[0;32m     68\u001b[0m \u001b[1;33m\u001b[0m\u001b[0m\n",
      "\u001b[1;32m~\\Anaconda3\\lib\\site-packages\\flask\\app.py\u001b[0m in \u001b[0;36madd_url_rule\u001b[1;34m(self, rule, endpoint, view_func, provide_automatic_options, **options)\u001b[0m\n\u001b[0;32m   1219\u001b[0m             \u001b[1;32mif\u001b[0m \u001b[0mold_func\u001b[0m \u001b[1;32mis\u001b[0m \u001b[1;32mnot\u001b[0m \u001b[1;32mNone\u001b[0m \u001b[1;32mand\u001b[0m \u001b[0mold_func\u001b[0m \u001b[1;33m!=\u001b[0m \u001b[0mview_func\u001b[0m\u001b[1;33m:\u001b[0m\u001b[1;33m\u001b[0m\u001b[1;33m\u001b[0m\u001b[0m\n\u001b[0;32m   1220\u001b[0m                 raise AssertionError('View function mapping is overwriting an '\n\u001b[1;32m-> 1221\u001b[1;33m                                      'existing endpoint function: %s' % endpoint)\n\u001b[0m\u001b[0;32m   1222\u001b[0m             \u001b[0mself\u001b[0m\u001b[1;33m.\u001b[0m\u001b[0mview_functions\u001b[0m\u001b[1;33m[\u001b[0m\u001b[0mendpoint\u001b[0m\u001b[1;33m]\u001b[0m \u001b[1;33m=\u001b[0m \u001b[0mview_func\u001b[0m\u001b[1;33m\u001b[0m\u001b[1;33m\u001b[0m\u001b[0m\n\u001b[0;32m   1223\u001b[0m \u001b[1;33m\u001b[0m\u001b[0m\n",
      "\u001b[1;31mAssertionError\u001b[0m: View function mapping is overwriting an existing endpoint function: index"
     ]
    }
   ],
   "source": [
    "@app.route('/')\n",
    "def index():\n",
    "    return render_template(\"index.html\")\n",
    "@app.route('/results')\n",
    "def results():\n",
    "    if request.args:\n",
    "        search = request.args[\"search\"]\n",
    "        conn = sqlite3.connect('paper.db', timeout=10)\n",
    "        c = conn.cursor()\n",
    "        c.execute(\"SELECT * FROM paper WHERE filetext like '%?%' \", search)\n",
    "        printout = c.fetchall()\n",
    "        return render_template(\"results.html\", search=search)\n",
    "    return redirect(url_for('index'))\n",
    "def main():\n",
    "    makebase()\n",
    "    app.run(debug=False)\n",
    "main()"
   ]
  },
  {
   "cell_type": "code",
   "execution_count": null,
   "metadata": {},
   "outputs": [],
   "source": []
  }
 ],
 "metadata": {
  "kernelspec": {
   "display_name": "Python 3",
   "language": "python",
   "name": "python3"
  },
  "language_info": {
   "codemirror_mode": {
    "name": "ipython",
    "version": 3
   },
   "file_extension": ".py",
   "mimetype": "text/x-python",
   "name": "python",
   "nbconvert_exporter": "python",
   "pygments_lexer": "ipython3",
   "version": "3.7.1"
  }
 },
 "nbformat": 4,
 "nbformat_minor": 2
}
