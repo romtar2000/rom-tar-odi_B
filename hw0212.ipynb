{
 "cells": [
  {
   "cell_type": "code",
   "execution_count": 2,
   "metadata": {},
   "outputs": [
    {
     "name": "stderr",
     "output_type": "stream",
     "text": [
      " * Running on http://127.0.0.1:5000/ (Press CTRL+C to quit)\n",
      "127.0.0.1 - - [01/Dec/2018 09:10:45] \"GET / HTTP/1.1\" 200 -\n",
      "127.0.0.1 - - [01/Dec/2018 09:10:48] \"GET /questionnaire HTTP/1.1\" 200 -\n",
      "127.0.0.1 - - [01/Dec/2018 09:13:51] \"GET /results?name=%D0%90%D0%BD%D0%BD%D0%B0&age=16&gender=%D0%B6%D0%B5%D0%BD%D1%81%D0%BA%D0%B8%D0%B9&translation=%D0%BD%D0%B8%D1%86%D1%8D%D0%BA+%D1%82%D1%8B%D1%81%D1%8F%D1%87%D0%B0+%D0%BA%D1%8B%D0%BB%D0%B3%D1%8B%D0%BD%D0%BA%D1%8D%D0%BD+%D0%BD%D1%8B%D1%86%D0%BE%D0%BA+%D0%BF%D0%B0%D1%86%D0%BE%D0%BB HTTP/1.1\" 200 -\n",
      "127.0.0.1 - - [01/Dec/2018 09:14:28] \"GET /results?name=%D0%92%D0%BB%D0%B0%D0%B4%D0%B8%D0%BC%D0%B8%D1%80&age=60&gender=%D0%BC%D1%83%D0%B6%D1%81%D0%BA%D0%BE%D0%B9&translation=%D0%BD%D0%B8%D1%86%D1%8D%D0%BA+%D1%82%D1%8B%D1%81%D1%8F%D1%87%D0%B0+%D0%BA%D1%8B%D0%BB%D0%B3%D1%8B%D0%BD%D0%BA%D1%8D%D0%BD+%D0%BD%D1%8B%D1%86%D0%BE%D0%BA+%D0%BF%D0%B0%D1%86%D0%BE%D0%BB HTTP/1.1\" 200 -\n"
     ]
    }
   ],
   "source": [
    "#работа посвящена вариативности чукотских числительных в зависимости от:\n",
    "#1) пола\n",
    "#2) использования традиционной или современной системы числительных\n",
    "from flask import Flask\n",
    "from flask import url_for, render_template, request, redirect\n",
    "\n",
    "app = Flask(__name__)\n",
    "\n",
    "@app.route('/')\n",
    "def index():\n",
    "    urls = {'главная (эта страница)': url_for('index'),\n",
    "            'форма': url_for('questionnaire'),\n",
    "            'форма с личной статистикой': url_for('result')}\n",
    "    return render_template('index.html', urls=urls)\n",
    "\n",
    "@app.route('/questionnaire')\n",
    "def questionnaire():\n",
    "    return render_template('questionnaire.html')\n",
    "\n",
    "@app.route('/results')\n",
    "def result():\n",
    "    if request.args:\n",
    "        name = request.args['name']\n",
    "        age = request.args['age']\n",
    "        gender = request.args['gender']\n",
    "        answer = request.args['translation']\n",
    "        with open(\"ckt.csv\", 'a', encoding=\"utf-8\") as f:\n",
    "            line = name + \",\" + age + \",\" + gender + \",\" + answer + \"\\n\"\n",
    "            f.write(line)\n",
    "        return render_template('results.html', name=name, age=age, gender=gender,\n",
    "                               translation=answer)\n",
    "    return redirect(url_for('questionnaire'))\n",
    "    \n",
    "    \n",
    "    \n",
    "\n",
    "if __name__ == '__main__':\n",
    "    app.run(debug=False)"
   ]
  },
  {
   "cell_type": "code",
   "execution_count": null,
   "metadata": {},
   "outputs": [],
   "source": []
  }
 ],
 "metadata": {
  "kernelspec": {
   "display_name": "Python 3",
   "language": "python",
   "name": "python3"
  },
  "language_info": {
   "codemirror_mode": {
    "name": "ipython",
    "version": 3
   },
   "file_extension": ".py",
   "mimetype": "text/x-python",
   "name": "python",
   "nbconvert_exporter": "python",
   "pygments_lexer": "ipython3",
   "version": "3.6.5"
  }
 },
 "nbformat": 4,
 "nbformat_minor": 2
}
